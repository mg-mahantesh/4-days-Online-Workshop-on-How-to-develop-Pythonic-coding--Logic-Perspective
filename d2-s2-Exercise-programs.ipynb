{
  "nbformat": 4,
  "nbformat_minor": 0,
  "metadata": {
    "colab": {
      "name": "Untitled3.ipynb",
      "provenance": [],
      "collapsed_sections": [],
      "authorship_tag": "ABX9TyMQvG6LLQZTQszAYiT5vtPA",
      "include_colab_link": true
    },
    "kernelspec": {
      "name": "python3",
      "display_name": "Python 3"
    }
  },
  "cells": [
    {
      "cell_type": "markdown",
      "metadata": {
        "id": "view-in-github",
        "colab_type": "text"
      },
      "source": [
        "<a href=\"https://colab.research.google.com/github/mg-mahantesh/4-days-Online-Workshop-on-How-to-develop-Pythonic-coding--Logic-Perspective/blob/master/d2-s2-Exercise-programs.ipynb\" target=\"_parent\"><img src=\"https://colab.research.google.com/assets/colab-badge.svg\" alt=\"Open In Colab\"/></a>"
      ]
    },
    {
      "cell_type": "code",
      "metadata": {
        "id": "mkMpAHL1Z5H5",
        "colab_type": "code",
        "colab": {
          "base_uri": "https://localhost:8080/",
          "height": 51
        },
        "outputId": "e1da98d2-6574-4bb9-cbca-05816d101a5f"
      },
      "source": [
        "\n",
        "l = [(x,x**2) for x in range(int(input('Enter Number : ')))]\n",
        "print(l)"
      ],
      "execution_count": 1,
      "outputs": [
        {
          "output_type": "stream",
          "text": [
            "Enter Number : 5\n",
            "[(0, 0), (1, 1), (2, 4), (3, 9), (4, 16)]\n"
          ],
          "name": "stdout"
        }
      ]
    },
    {
      "cell_type": "code",
      "metadata": {
        "id": "XyTHaqouaD7n",
        "colab_type": "code",
        "colab": {
          "base_uri": "https://localhost:8080/",
          "height": 51
        },
        "outputId": "2802561d-7cd2-46cd-fb20-0bed3b8f7c92"
      },
      "source": [
        "l = (x for x in input('Enter Names : ').split()) # tuple\n",
        "l = sorted(l,key = lambda x: len(x))\n",
        "print(l)"
      ],
      "execution_count": 2,
      "outputs": [
        {
          "output_type": "stream",
          "text": [
            "Enter Names : monty\n",
            "['monty']\n"
          ],
          "name": "stdout"
        }
      ]
    },
    {
      "cell_type": "code",
      "metadata": {
        "id": "U_1WjG15aHxO",
        "colab_type": "code",
        "colab": {
          "base_uri": "https://localhost:8080/",
          "height": 189
        },
        "outputId": "d81df417-a4d3-45b0-b862-98e4649e7964"
      },
      "source": [
        "\n",
        "l = []\n",
        "\n",
        "def inp():\n",
        "  name = input('Name : ')\n",
        "  rolno = input(' Rol No : ')\n",
        "  return (name,rolno)  # returns tuples\n",
        "\n",
        "n = int(input('Number of Students : '))\n",
        "for x in range(n):\n",
        "  l.append(inp())\n",
        "\n",
        "print(f'Original : {l}')\n",
        "\n",
        "l.sort(key = lambda x:x[1])\n",
        "print(f'According to Rol No : Ascending :{l}')\n",
        "print(f'According to Rol No : Descending :{l[::-1]}')\n",
        "\n",
        "l.sort(key = lambda x:x[0])\n",
        "print(f'According to Name : Ascending :{l}')\n",
        "print(f'According to Name : Descending :{l[::-1]}')"
      ],
      "execution_count": 3,
      "outputs": [
        {
          "output_type": "stream",
          "text": [
            "Number of Students : 2\n",
            "Name : monty\n",
            " Rol No : 223\n",
            "Name : wex\n",
            " Rol No : 324\n",
            "Original : [('monty', '223'), ('wex', '324')]\n",
            "According to Rol No : Ascending :[('monty', '223'), ('wex', '324')]\n",
            "According to Rol No : Descending :[('wex', '324'), ('monty', '223')]\n",
            "According to Name : Ascending :[('monty', '223'), ('wex', '324')]\n",
            "According to Name : Descending :[('wex', '324'), ('monty', '223')]\n"
          ],
          "name": "stdout"
        }
      ]
    }
  ]
}